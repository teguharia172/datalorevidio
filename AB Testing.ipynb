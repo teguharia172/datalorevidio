{
 "cells": [
  {
   "cell_type": "code",
   "execution_count": 90,
   "metadata": {},
   "outputs": [],
   "source": [
    "import numpy as np\n",
    "import pandas as pd\n",
    "import matplotlib.pyplot as plt\n",
    "import matplotlib.ticker as ticker\n",
    "import seaborn as sns\n",
    "\n",
    "plt.style.use(\"fivethirtyeight\")"
   ]
  },
  {
   "cell_type": "code",
   "execution_count": 2,
   "metadata": {},
   "outputs": [
    {
     "data": {
      "text/html": [
       "<div>\n",
       "<style scoped>\n",
       "    .dataframe tbody tr th:only-of-type {\n",
       "        vertical-align: middle;\n",
       "    }\n",
       "\n",
       "    .dataframe tbody tr th {\n",
       "        vertical-align: top;\n",
       "    }\n",
       "\n",
       "    .dataframe thead th {\n",
       "        text-align: right;\n",
       "    }\n",
       "</style>\n",
       "<table border=\"1\" class=\"dataframe\">\n",
       "  <thead>\n",
       "    <tr style=\"text-align: right;\">\n",
       "      <th></th>\n",
       "      <th>segments</th>\n",
       "      <th>converted</th>\n",
       "    </tr>\n",
       "    <tr>\n",
       "      <th>visit_id</th>\n",
       "      <th></th>\n",
       "      <th></th>\n",
       "    </tr>\n",
       "  </thead>\n",
       "  <tbody>\n",
       "    <tr>\n",
       "      <th>89d04554-8512-4dcb-8437-b0e348b1a04d</th>\n",
       "      <td>meiro_family_b_quality_watcher</td>\n",
       "      <td>True</td>\n",
       "    </tr>\n",
       "    <tr>\n",
       "      <th>8c0f41a5-2d51-420b-bdaa-078232fa1058</th>\n",
       "      <td>meiro_family_a_quality_watcher</td>\n",
       "      <td>True</td>\n",
       "    </tr>\n",
       "    <tr>\n",
       "      <th>08112bb9-883e-40c9-a150-f64ee515754b</th>\n",
       "      <td>meiro_family_b_quality_watcher</td>\n",
       "      <td>True</td>\n",
       "    </tr>\n",
       "    <tr>\n",
       "      <th>3a8fd258-0b2d-40bb-aaa5-b7236505345b</th>\n",
       "      <td>meiro_family_b_quality_watcher</td>\n",
       "      <td>True</td>\n",
       "    </tr>\n",
       "    <tr>\n",
       "      <th>1e7627f8-c974-477c-90e8-21afc1915af9</th>\n",
       "      <td>meiro_family_b_quality_watcher</td>\n",
       "      <td>True</td>\n",
       "    </tr>\n",
       "  </tbody>\n",
       "</table>\n",
       "</div>"
      ],
      "text/plain": [
       "                                                            segments  \\\n",
       "visit_id                                                               \n",
       "89d04554-8512-4dcb-8437-b0e348b1a04d  meiro_family_b_quality_watcher   \n",
       "8c0f41a5-2d51-420b-bdaa-078232fa1058  meiro_family_a_quality_watcher   \n",
       "08112bb9-883e-40c9-a150-f64ee515754b  meiro_family_b_quality_watcher   \n",
       "3a8fd258-0b2d-40bb-aaa5-b7236505345b  meiro_family_b_quality_watcher   \n",
       "1e7627f8-c974-477c-90e8-21afc1915af9  meiro_family_b_quality_watcher   \n",
       "\n",
       "                                      converted  \n",
       "visit_id                                         \n",
       "89d04554-8512-4dcb-8437-b0e348b1a04d       True  \n",
       "8c0f41a5-2d51-420b-bdaa-078232fa1058       True  \n",
       "08112bb9-883e-40c9-a150-f64ee515754b       True  \n",
       "3a8fd258-0b2d-40bb-aaa5-b7236505345b       True  \n",
       "1e7627f8-c974-477c-90e8-21afc1915af9       True  "
      ]
     },
     "execution_count": 2,
     "metadata": {},
     "output_type": "execute_result"
    }
   ],
   "source": [
    "df = pd.read_csv(\"a_b_testing_conversion_updated_2.csv\")\n",
    "df = df.set_index(\"visit_id\")\n",
    "df.head()"
   ]
  },
  {
   "cell_type": "code",
   "execution_count": 3,
   "metadata": {},
   "outputs": [
    {
     "data": {
      "text/plain": [
       "meiro_family_a_quality_watcher    372039\n",
       "meiro_family_b_quality_watcher    371845\n",
       "Name: segments, dtype: int64"
      ]
     },
     "execution_count": 3,
     "metadata": {},
     "output_type": "execute_result"
    }
   ],
   "source": [
    "df[\"segments\"].value_counts()"
   ]
  },
  {
   "cell_type": "code",
   "execution_count": 4,
   "metadata": {},
   "outputs": [
    {
     "data": {
      "text/plain": [
       "segments\n",
       "meiro_family_a_quality_watcher    358370\n",
       "meiro_family_b_quality_watcher    358617\n",
       "Name: visit_id, dtype: int64"
      ]
     },
     "execution_count": 4,
     "metadata": {},
     "output_type": "execute_result"
    }
   ],
   "source": [
    "df.reset_index().groupby(\"segments\").agg(lambda x: x.nunique())[\"visit_id\"]"
   ]
  },
  {
   "cell_type": "code",
   "execution_count": 5,
   "metadata": {},
   "outputs": [
    {
     "data": {
      "text/plain": [
       "meiro_family_a_quality_watcher    208230\n",
       "meiro_family_b_quality_watcher    207419\n",
       "Name: segments, dtype: int64"
      ]
     },
     "execution_count": 5,
     "metadata": {},
     "output_type": "execute_result"
    }
   ],
   "source": [
    "df[df[\"converted\"] == True][\"segments\"].value_counts()"
   ]
  },
  {
   "cell_type": "code",
   "execution_count": 6,
   "metadata": {},
   "outputs": [
    {
     "data": {
      "text/html": [
       "<div>\n",
       "<style scoped>\n",
       "    .dataframe tbody tr th:only-of-type {\n",
       "        vertical-align: middle;\n",
       "    }\n",
       "\n",
       "    .dataframe tbody tr th {\n",
       "        vertical-align: top;\n",
       "    }\n",
       "\n",
       "    .dataframe thead th {\n",
       "        text-align: right;\n",
       "    }\n",
       "</style>\n",
       "<table border=\"1\" class=\"dataframe\">\n",
       "  <thead>\n",
       "    <tr style=\"text-align: right;\">\n",
       "      <th></th>\n",
       "      <th>segments</th>\n",
       "      <th>converted</th>\n",
       "    </tr>\n",
       "  </thead>\n",
       "  <tbody>\n",
       "    <tr>\n",
       "      <th>0</th>\n",
       "      <td>meiro_family_b_quality_watcher</td>\n",
       "      <td>True</td>\n",
       "    </tr>\n",
       "    <tr>\n",
       "      <th>1</th>\n",
       "      <td>meiro_family_a_quality_watcher</td>\n",
       "      <td>True</td>\n",
       "    </tr>\n",
       "    <tr>\n",
       "      <th>2</th>\n",
       "      <td>meiro_family_b_quality_watcher</td>\n",
       "      <td>True</td>\n",
       "    </tr>\n",
       "    <tr>\n",
       "      <th>3</th>\n",
       "      <td>meiro_family_b_quality_watcher</td>\n",
       "      <td>True</td>\n",
       "    </tr>\n",
       "    <tr>\n",
       "      <th>4</th>\n",
       "      <td>meiro_family_b_quality_watcher</td>\n",
       "      <td>True</td>\n",
       "    </tr>\n",
       "  </tbody>\n",
       "</table>\n",
       "</div>"
      ],
      "text/plain": [
       "                         segments  converted\n",
       "0  meiro_family_b_quality_watcher       True\n",
       "1  meiro_family_a_quality_watcher       True\n",
       "2  meiro_family_b_quality_watcher       True\n",
       "3  meiro_family_b_quality_watcher       True\n",
       "4  meiro_family_b_quality_watcher       True"
      ]
     },
     "execution_count": 6,
     "metadata": {},
     "output_type": "execute_result"
    }
   ],
   "source": [
    "sampled_df = df.reset_index(drop=True)\n",
    "sampled_df.head()"
   ]
  },
  {
   "cell_type": "code",
   "execution_count": 7,
   "metadata": {},
   "outputs": [],
   "source": [
    "# sampled_df = df.groupby(\"segments\").apply(lambda x: x.sample(df[\"segments\"].value_counts().min())).reset_index(drop=True)"
   ]
  },
  {
   "cell_type": "code",
   "execution_count": 8,
   "metadata": {},
   "outputs": [],
   "source": [
    "# sampled_df[\"segments\"].value_counts()"
   ]
  },
  {
   "cell_type": "code",
   "execution_count": 9,
   "metadata": {},
   "outputs": [],
   "source": [
    "# sampled_df[sampled_df[\"converted\"] == True][\"segments\"].value_counts()"
   ]
  },
  {
   "cell_type": "code",
   "execution_count": 10,
   "metadata": {},
   "outputs": [
    {
     "name": "stdout",
     "output_type": "stream",
     "text": [
      "CPU times: total: 1min 4s\n",
      "Wall time: 1min 41s\n"
     ]
    }
   ],
   "source": [
    "%%time\n",
    "\n",
    "random_state = 42\n",
    "num_times = 1000\n",
    "all_df = []\n",
    "\n",
    "for num in range(num_times):\n",
    "    sampled_segments = sampled_df[[\"segments\"]].sample(frac=1, random_state=random_state + num).reset_index(drop=True)\n",
    "    sampled_segments[\"converted\"] = sampled_df[\"converted\"]\n",
    "    all_df.append(sampled_segments)"
   ]
  },
  {
   "cell_type": "code",
   "execution_count": 11,
   "metadata": {},
   "outputs": [
    {
     "name": "stdout",
     "output_type": "stream",
     "text": [
      "CPU times: total: 1min 12s\n",
      "Wall time: 3min 41s\n"
     ]
    }
   ],
   "source": [
    "%%time\n",
    "\n",
    "list_a, list_b = [], []\n",
    "\n",
    "for i in range(len(all_df)):\n",
    "    list_a.append(len(all_df[i][(all_df[i][\"converted\"] == True) & (all_df[i][\"segments\"] == \"meiro_family_a_quality_watcher\")]))\n",
    "    list_b.append(len(all_df[i][(all_df[i][\"converted\"] == True) & (all_df[i][\"segments\"] == \"meiro_family_b_quality_watcher\")]))"
   ]
  },
  {
   "cell_type": "code",
   "execution_count": 12,
   "metadata": {},
   "outputs": [
    {
     "data": {
      "text/html": [
       "<div>\n",
       "<style scoped>\n",
       "    .dataframe tbody tr th:only-of-type {\n",
       "        vertical-align: middle;\n",
       "    }\n",
       "\n",
       "    .dataframe tbody tr th {\n",
       "        vertical-align: top;\n",
       "    }\n",
       "\n",
       "    .dataframe thead th {\n",
       "        text-align: right;\n",
       "    }\n",
       "</style>\n",
       "<table border=\"1\" class=\"dataframe\">\n",
       "  <thead>\n",
       "    <tr style=\"text-align: right;\">\n",
       "      <th></th>\n",
       "      <th>visit</th>\n",
       "      <th>conversion</th>\n",
       "      <th>conversion_rate</th>\n",
       "    </tr>\n",
       "  </thead>\n",
       "  <tbody>\n",
       "    <tr>\n",
       "      <th>meiro_family_a_quality_watcher</th>\n",
       "      <td>358370</td>\n",
       "      <td>208230</td>\n",
       "      <td>58.104752</td>\n",
       "    </tr>\n",
       "    <tr>\n",
       "      <th>meiro_family_b_quality_watcher</th>\n",
       "      <td>358617</td>\n",
       "      <td>207419</td>\n",
       "      <td>57.838585</td>\n",
       "    </tr>\n",
       "  </tbody>\n",
       "</table>\n",
       "</div>"
      ],
      "text/plain": [
       "                                 visit  conversion  conversion_rate\n",
       "meiro_family_a_quality_watcher  358370      208230        58.104752\n",
       "meiro_family_b_quality_watcher  358617      207419        57.838585"
      ]
     },
     "execution_count": 12,
     "metadata": {},
     "output_type": "execute_result"
    }
   ],
   "source": [
    "summary = pd.DataFrame({\n",
    "    \"visit\": df.reset_index().groupby(\"segments\").agg(lambda x: x.nunique())[\"visit_id\"].values,\n",
    "    \"conversion\": sampled_df[sampled_df[\"converted\"] == True][\"segments\"].value_counts().values\n",
    "})\n",
    "summary[\"conversion_rate\"] = summary[\"conversion\"] / summary[\"visit\"] * 100\n",
    "summary.index = np.sort(sampled_df[\"segments\"].unique())\n",
    "summary"
   ]
  },
  {
   "cell_type": "code",
   "execution_count": 58,
   "metadata": {},
   "outputs": [
    {
     "data": {
      "text/plain": [
       "0.4580806349099833"
      ]
     },
     "execution_count": 58,
     "metadata": {},
     "output_type": "execute_result"
    }
   ],
   "source": [
    "a_conversion_rate = summary[\"conversion_rate\"].loc[\"meiro_family_a_quality_watcher\"]\n",
    "b_conversion_rate = summary[\"conversion_rate\"].loc[\"meiro_family_b_quality_watcher\"]\n",
    "\n",
    "difference = abs(((b_conversion_rate - a_conversion_rate) / a_conversion_rate) * 100)\n",
    "difference"
   ]
  },
  {
   "cell_type": "code",
   "execution_count": 131,
   "metadata": {},
   "outputs": [
    {
     "data": {
      "text/html": [
       "<div>\n",
       "<style scoped>\n",
       "    .dataframe tbody tr th:only-of-type {\n",
       "        vertical-align: middle;\n",
       "    }\n",
       "\n",
       "    .dataframe tbody tr th {\n",
       "        vertical-align: top;\n",
       "    }\n",
       "\n",
       "    .dataframe thead th {\n",
       "        text-align: right;\n",
       "    }\n",
       "</style>\n",
       "<table border=\"1\" class=\"dataframe\">\n",
       "  <thead>\n",
       "    <tr style=\"text-align: right;\">\n",
       "      <th></th>\n",
       "      <th>a_converted</th>\n",
       "      <th>b_converted</th>\n",
       "      <th>combined</th>\n",
       "      <th>difference</th>\n",
       "      <th>threshold</th>\n",
       "      <th>color</th>\n",
       "    </tr>\n",
       "  </thead>\n",
       "  <tbody>\n",
       "    <tr>\n",
       "      <th>462</th>\n",
       "      <td>207231</td>\n",
       "      <td>208418</td>\n",
       "      <td>a: 207231\\nb: 208418</td>\n",
       "      <td>0.572791</td>\n",
       "      <td>True</td>\n",
       "      <td>red</td>\n",
       "    </tr>\n",
       "    <tr>\n",
       "      <th>111</th>\n",
       "      <td>207234</td>\n",
       "      <td>208415</td>\n",
       "      <td>a: 207234\\nb: 208415</td>\n",
       "      <td>0.569887</td>\n",
       "      <td>True</td>\n",
       "      <td>red</td>\n",
       "    </tr>\n",
       "    <tr>\n",
       "      <th>974</th>\n",
       "      <td>207270</td>\n",
       "      <td>208379</td>\n",
       "      <td>a: 207270\\nb: 208379</td>\n",
       "      <td>0.535051</td>\n",
       "      <td>True</td>\n",
       "      <td>red</td>\n",
       "    </tr>\n",
       "    <tr>\n",
       "      <th>604</th>\n",
       "      <td>207337</td>\n",
       "      <td>208312</td>\n",
       "      <td>a: 207337\\nb: 208312</td>\n",
       "      <td>0.470249</td>\n",
       "      <td>True</td>\n",
       "      <td>red</td>\n",
       "    </tr>\n",
       "    <tr>\n",
       "      <th>702</th>\n",
       "      <td>207340</td>\n",
       "      <td>208309</td>\n",
       "      <td>a: 207340\\nb: 208309</td>\n",
       "      <td>0.467348</td>\n",
       "      <td>True</td>\n",
       "      <td>red</td>\n",
       "    </tr>\n",
       "  </tbody>\n",
       "</table>\n",
       "</div>"
      ],
      "text/plain": [
       "     a_converted  b_converted              combined  difference  threshold  \\\n",
       "462       207231       208418  a: 207231\\nb: 208418    0.572791       True   \n",
       "111       207234       208415  a: 207234\\nb: 208415    0.569887       True   \n",
       "974       207270       208379  a: 207270\\nb: 208379    0.535051       True   \n",
       "604       207337       208312  a: 207337\\nb: 208312    0.470249       True   \n",
       "702       207340       208309  a: 207340\\nb: 208309    0.467348       True   \n",
       "\n",
       "    color  \n",
       "462   red  \n",
       "111   red  \n",
       "974   red  \n",
       "604   red  \n",
       "702   red  "
      ]
     },
     "execution_count": 131,
     "metadata": {},
     "output_type": "execute_result"
    }
   ],
   "source": [
    "simulation_df = pd.DataFrame({\n",
    "    \"a_converted\": list_a,\n",
    "    \"b_converted\": list_b\n",
    "})\n",
    "\n",
    "simulation_df[\"combined\"] = simulation_df.apply(lambda row: f'a: {row[\"a_converted\"]}\\nb: {row[\"b_converted\"]}', axis=1)\n",
    "simulation_df[\"difference\"] = abs(((simulation_df[\"b_converted\"] - simulation_df[\"a_converted\"]) / simulation_df[\"a_converted\"]) * 100)\n",
    "simulation_df[\"threshold\"] = simulation_df[\"difference\"] >= difference\n",
    "simulation_df[\"color\"] = simulation_df[\"threshold\"].apply(lambda x: \"red\" if x else \"blue\")\n",
    "\n",
    "simulation_df = simulation_df.sort_values(by=[\"a_converted\", \"b_converted\"], ascending=[True, False])\n",
    "simulation_df.head()"
   ]
  },
  {
   "cell_type": "code",
   "execution_count": 132,
   "metadata": {},
   "outputs": [
    {
     "data": {
      "text/plain": [
       "3.0"
      ]
     },
     "execution_count": 132,
     "metadata": {},
     "output_type": "execute_result"
    }
   ],
   "source": [
    "p_value = len(simulation_df[simulation_df[\"threshold\"] == True]) / len(simulation_df) * 100\n",
    "p_value"
   ]
  },
  {
   "cell_type": "code",
   "execution_count": 133,
   "metadata": {},
   "outputs": [
    {
     "data": {
      "text/plain": [
       "97.0"
      ]
     },
     "execution_count": 133,
     "metadata": {},
     "output_type": "execute_result"
    }
   ],
   "source": [
    "100 - p_value"
   ]
  },
  {
   "cell_type": "code",
   "execution_count": 139,
   "metadata": {},
   "outputs": [
    {
     "data": {
      "text/html": [
       "<div>\n",
       "<style scoped>\n",
       "    .dataframe tbody tr th:only-of-type {\n",
       "        vertical-align: middle;\n",
       "    }\n",
       "\n",
       "    .dataframe tbody tr th {\n",
       "        vertical-align: top;\n",
       "    }\n",
       "\n",
       "    .dataframe thead th {\n",
       "        text-align: right;\n",
       "    }\n",
       "</style>\n",
       "<table border=\"1\" class=\"dataframe\">\n",
       "  <thead>\n",
       "    <tr style=\"text-align: right;\">\n",
       "      <th></th>\n",
       "      <th>a_converted</th>\n",
       "      <th>b_converted</th>\n",
       "      <th>combined</th>\n",
       "      <th>difference</th>\n",
       "      <th>threshold</th>\n",
       "      <th>color</th>\n",
       "    </tr>\n",
       "  </thead>\n",
       "  <tbody>\n",
       "    <tr>\n",
       "      <th>111</th>\n",
       "      <td>207230</td>\n",
       "      <td>208410</td>\n",
       "      <td>a: 207230\\nb: 208410</td>\n",
       "      <td>0.569416</td>\n",
       "      <td>True</td>\n",
       "      <td>#ff0000</td>\n",
       "    </tr>\n",
       "    <tr>\n",
       "      <th>462</th>\n",
       "      <td>207230</td>\n",
       "      <td>208410</td>\n",
       "      <td>a: 207230\\nb: 208410</td>\n",
       "      <td>0.569416</td>\n",
       "      <td>True</td>\n",
       "      <td>#ff0000</td>\n",
       "    </tr>\n",
       "    <tr>\n",
       "      <th>974</th>\n",
       "      <td>207270</td>\n",
       "      <td>208370</td>\n",
       "      <td>a: 207270\\nb: 208370</td>\n",
       "      <td>0.530709</td>\n",
       "      <td>True</td>\n",
       "      <td>#ff0000</td>\n",
       "    </tr>\n",
       "    <tr>\n",
       "      <th>604</th>\n",
       "      <td>207330</td>\n",
       "      <td>208310</td>\n",
       "      <td>a: 207330\\nb: 208310</td>\n",
       "      <td>0.472676</td>\n",
       "      <td>True</td>\n",
       "      <td>#ff0000</td>\n",
       "    </tr>\n",
       "    <tr>\n",
       "      <th>404</th>\n",
       "      <td>207340</td>\n",
       "      <td>208300</td>\n",
       "      <td>a: 207340\\nb: 208300</td>\n",
       "      <td>0.463008</td>\n",
       "      <td>True</td>\n",
       "      <td>#ff0000</td>\n",
       "    </tr>\n",
       "  </tbody>\n",
       "</table>\n",
       "</div>"
      ],
      "text/plain": [
       "     a_converted  b_converted              combined  difference  threshold  \\\n",
       "111       207230       208410  a: 207230\\nb: 208410    0.569416       True   \n",
       "462       207230       208410  a: 207230\\nb: 208410    0.569416       True   \n",
       "974       207270       208370  a: 207270\\nb: 208370    0.530709       True   \n",
       "604       207330       208310  a: 207330\\nb: 208310    0.472676       True   \n",
       "404       207340       208300  a: 207340\\nb: 208300    0.463008       True   \n",
       "\n",
       "       color  \n",
       "111  #ff0000  \n",
       "462  #ff0000  \n",
       "974  #ff0000  \n",
       "604  #ff0000  \n",
       "404  #ff0000  "
      ]
     },
     "execution_count": 139,
     "metadata": {},
     "output_type": "execute_result"
    }
   ],
   "source": [
    "simulation_df = pd.DataFrame({\n",
    "    \"a_converted\": list_a,\n",
    "    \"b_converted\": list_b\n",
    "})\n",
    "\n",
    "simplified = 10\n",
    "simulation_df[\"a_converted\"] = simulation_df[\"a_converted\"] // simplified * simplified\n",
    "simulation_df[\"b_converted\"] = simulation_df[\"b_converted\"] // simplified * simplified\n",
    "\n",
    "simulation_df[\"combined\"] = simulation_df.apply(lambda row: f'a: {row[\"a_converted\"]}\\nb: {row[\"b_converted\"]}', axis=1)\n",
    "simulation_df[\"difference\"] = abs(((simulation_df[\"b_converted\"] - simulation_df[\"a_converted\"]) / simulation_df[\"a_converted\"]) * 100)\n",
    "simulation_df[\"threshold\"] = simulation_df[\"difference\"] >= difference\n",
    "simulation_df[\"color\"] = simulation_df[\"threshold\"].apply(lambda x: \"#ff0000\" if x else \"#008fd5\")\n",
    "\n",
    "simulation_df = simulation_df.sort_values(by=[\"a_converted\", \"b_converted\"], ascending=[True, False])\n",
    "simulation_df.head()"
   ]
  },
  {
   "cell_type": "code",
   "execution_count": 140,
   "metadata": {},
   "outputs": [
    {
     "data": {
      "text/html": [
       "<div>\n",
       "<style scoped>\n",
       "    .dataframe tbody tr th:only-of-type {\n",
       "        vertical-align: middle;\n",
       "    }\n",
       "\n",
       "    .dataframe tbody tr th {\n",
       "        vertical-align: top;\n",
       "    }\n",
       "\n",
       "    .dataframe thead th {\n",
       "        text-align: right;\n",
       "    }\n",
       "</style>\n",
       "<table border=\"1\" class=\"dataframe\">\n",
       "  <thead>\n",
       "    <tr style=\"text-align: right;\">\n",
       "      <th></th>\n",
       "      <th>combined</th>\n",
       "      <th>color</th>\n",
       "    </tr>\n",
       "  </thead>\n",
       "  <tbody>\n",
       "    <tr>\n",
       "      <th>a: 207230\\nb: 208410</th>\n",
       "      <td>2</td>\n",
       "      <td>#ff0000</td>\n",
       "    </tr>\n",
       "    <tr>\n",
       "      <th>a: 207270\\nb: 208370</th>\n",
       "      <td>1</td>\n",
       "      <td>#ff0000</td>\n",
       "    </tr>\n",
       "    <tr>\n",
       "      <th>a: 207330\\nb: 208310</th>\n",
       "      <td>1</td>\n",
       "      <td>#ff0000</td>\n",
       "    </tr>\n",
       "    <tr>\n",
       "      <th>a: 207340\\nb: 208300</th>\n",
       "      <td>2</td>\n",
       "      <td>#ff0000</td>\n",
       "    </tr>\n",
       "    <tr>\n",
       "      <th>a: 207360\\nb: 208280</th>\n",
       "      <td>4</td>\n",
       "      <td>#008fd5</td>\n",
       "    </tr>\n",
       "    <tr>\n",
       "      <th>...</th>\n",
       "      <td>...</td>\n",
       "      <td>...</td>\n",
       "    </tr>\n",
       "    <tr>\n",
       "      <th>a: 208430\\nb: 207210</th>\n",
       "      <td>1</td>\n",
       "      <td>#ff0000</td>\n",
       "    </tr>\n",
       "    <tr>\n",
       "      <th>a: 208440\\nb: 207200</th>\n",
       "      <td>1</td>\n",
       "      <td>#ff0000</td>\n",
       "    </tr>\n",
       "    <tr>\n",
       "      <th>a: 208450\\nb: 207190</th>\n",
       "      <td>2</td>\n",
       "      <td>#ff0000</td>\n",
       "    </tr>\n",
       "    <tr>\n",
       "      <th>a: 208470\\nb: 207170</th>\n",
       "      <td>2</td>\n",
       "      <td>#ff0000</td>\n",
       "    </tr>\n",
       "    <tr>\n",
       "      <th>a: 208480\\nb: 207160</th>\n",
       "      <td>1</td>\n",
       "      <td>#ff0000</td>\n",
       "    </tr>\n",
       "  </tbody>\n",
       "</table>\n",
       "<p>110 rows × 2 columns</p>\n",
       "</div>"
      ],
      "text/plain": [
       "                      combined    color\n",
       "a: 207230\\nb: 208410         2  #ff0000\n",
       "a: 207270\\nb: 208370         1  #ff0000\n",
       "a: 207330\\nb: 208310         1  #ff0000\n",
       "a: 207340\\nb: 208300         2  #ff0000\n",
       "a: 207360\\nb: 208280         4  #008fd5\n",
       "...                        ...      ...\n",
       "a: 208430\\nb: 207210         1  #ff0000\n",
       "a: 208440\\nb: 207200         1  #ff0000\n",
       "a: 208450\\nb: 207190         2  #ff0000\n",
       "a: 208470\\nb: 207170         2  #ff0000\n",
       "a: 208480\\nb: 207160         1  #ff0000\n",
       "\n",
       "[110 rows x 2 columns]"
      ]
     },
     "execution_count": 140,
     "metadata": {},
     "output_type": "execute_result"
    }
   ],
   "source": [
    "distribution = pd.DataFrame(simulation_df[\"combined\"].value_counts()).reindex(simulation_df[\"combined\"].unique())\n",
    "distribution[\"color\"] = list(simulation_df.drop_duplicates()[\"color\"])\n",
    "distribution"
   ]
  },
  {
   "cell_type": "code",
   "execution_count": 154,
   "metadata": {},
   "outputs": [
    {
     "data": {
      "image/png": "[encoded data removed]",
      "text/plain": [
       "<Figure size 3000x1600 with 1 Axes>"
      ]
     },
     "metadata": {},
     "output_type": "display_data"
    }
   ],
   "source": [
    "fig, ax = plt.subplots(figsize=(15, 8), dpi=200)\n",
    "count = sns.countplot(data=simulation_df, x=\"combined\", ax=ax, order=simulation_df[\"combined\"].unique(), palette=list(simulation_df.drop_duplicates()[\"color\"]))\n",
    "    \n",
    "xtick_labels = ax.get_xticklabels()\n",
    "xtick_labels_text = [label.get_text() for label in xtick_labels]\n",
    "vertical_lines_xticks = [\"a: 207340\\nb: 208300\", \"a: 208300\\nb: 207340\"]\n",
    "vertical_lines_indices = [xtick_labels_text.index(label) for label in vertical_lines_xticks]\n",
    "for index in vertical_lines_indices:\n",
    "    ax.axvline(x=index, color=\"#ff0000\", linestyle=\"--\", linewidth=2)\n",
    "    \n",
    "center_index = len(xtick_labels_text) // 2\n",
    "desired_xticks_indices = vertical_lines_indices + [center_index]\n",
    "ax.set_xticks(desired_xticks_indices)\n",
    "ax.set_xticklabels([xtick_labels_text[index] for index in desired_xticks_indices])\n",
    "\n",
    "ax.set_xlabel(\"\")\n",
    "ax.tick_params(axis=\"x\", which=\"both\", pad=15)\n",
    "ax.tick_params(axis=\"y\", which=\"both\", pad=15)\n",
    "    \n",
    "ax.grid(False)\n",
    "plt.show()"
   ]
  },
  {
   "cell_type": "code",
   "execution_count": 124,
   "metadata": {},
   "outputs": [
    {
     "data": {
      "text/plain": [
       "[3, 96]"
      ]
     },
     "execution_count": 124,
     "metadata": {},
     "output_type": "execute_result"
    }
   ],
   "source": [
    "vertical_lines_indices"
   ]
  },
  {
   "cell_type": "code",
   "execution_count": null,
   "metadata": {},
   "outputs": [],
   "source": []
  }
 ],
 "metadata": {
  "kernelspec": {
   "display_name": "Python 3 (ipykernel)",
   "language": "python",
   "name": "python3"
  },
  "language_info": {
   "codemirror_mode": {
    "name": "ipython",
    "version": 3
   },
   "file_extension": ".py",
   "mimetype": "text/x-python",
   "name": "python",
   "nbconvert_exporter": "python",
   "pygments_lexer": "ipython3",
   "version": "3.8.10"
  },
  "toc": {
   "base_numbering": 1,
   "nav_menu": {},
   "number_sections": true,
   "sideBar": true,
   "skip_h1_title": false,
   "title_cell": "Table of Contents",
   "title_sidebar": "Contents",
   "toc_cell": false,
   "toc_position": {},
   "toc_section_display": true,
   "toc_window_display": false
  }
 },
 "nbformat": 4,
 "nbformat_minor": 4
}
